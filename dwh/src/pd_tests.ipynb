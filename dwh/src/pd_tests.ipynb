{
 "cells": [
  {
   "cell_type": "code",
   "execution_count": 2,
   "metadata": {
    "collapsed": false
   },
   "outputs": [],
   "source": [
    "import pandas as pd\n",
    "\n",
    "estates = pd.read_csv('../dta/miete.csv')\n",
    "\n",
    "whg = estates[estates['typ'] == 'Wohnung']\n"
   ]
  },
  {
   "cell_type": "code",
   "execution_count": 13,
   "metadata": {
    "collapsed": false
   },
   "outputs": [
    {
     "data": {
      "text/plain": [
       "typ       316\n",
       "kreis     316\n",
       "miete     316\n",
       "fläche    316\n",
       "zimmer    316\n",
       "dtype: int64"
      ]
     },
     "execution_count": 13,
     "metadata": {},
     "output_type": "execute_result"
    }
   ],
   "source": [
    "many_cities = \"Leipzig Berlin Chemnitz Dresden Düsseldorf Hamburg Köln\".split()\n",
    "few_cities = \"Leipzig Berlin Chemnitz Hamburg\".split()\n",
    "\n",
    "whg[whg.kreis.str.contains(\"Erfurt\")].count()\n"
   ]
  },
  {
   "cell_type": "code",
   "execution_count": 7,
   "metadata": {
    "collapsed": false
   },
   "outputs": [
    {
     "data": {
      "text/plain": [
       "Leipzig                   5423\n",
       "Berlin                    4952\n",
       "Chemnitz                  3250\n",
       "Dresden                   2407\n",
       "Essen                     1958\n",
       "Duisburg                  1934\n",
       "Düsseldorf                1652\n",
       "Hamburg                   1633\n",
       "Recklinghausen (Kreis)    1514\n",
       "Gelsenkirchen             1348\n",
       "Frankfurt am Main         1327\n",
       "Halle (Saale)             1207\n",
       "Dortmund                  1194\n",
       "Köln                      1169\n",
       "Wuppertal                 1114\n",
       "...\n",
       "Lüchow-Dannenberg (Kreis)          17\n",
       "Emmendingen (Kreis)                16\n",
       "Schwabach                          15\n",
       "Landau in der Pfalz                15\n",
       "Memmingen                          14\n",
       "Eichstätt (Kreis)                  14\n",
       "Schweinfurt (Kreis)                14\n",
       "Vechta (Kreis)                     12\n",
       "Neustadt a.d. Waldnaab (Kreis)     11\n",
       "Sankt Wendel (Kreis)                9\n",
       "Dingolfing-Landau (Kreis)           9\n",
       "Weißenburg-Gunzenhausen (Kreis)     9\n",
       "Dillingen an der Donau (Kreis)      8\n",
       "Unbekannt                           5\n",
       "Straubing-Bogen (Kreis)             1\n",
       "Length: 419, dtype: int64"
      ]
     },
     "execution_count": 7,
     "metadata": {},
     "output_type": "execute_result"
    }
   ],
   "source": [
    "whg.kreis.value_counts()\n"
   ]
  },
  {
   "cell_type": "code",
   "execution_count": 29,
   "metadata": {
    "collapsed": false
   },
   "outputs": [
    {
     "data": {
      "text/plain": [
       "4952"
      ]
     },
     "execution_count": 29,
     "metadata": {},
     "output_type": "execute_result"
    }
   ],
   "source": [
    "whg[whg.kreis=='Berlin'].kreis.count()"
   ]
  },
  {
   "cell_type": "code",
   "execution_count": null,
   "metadata": {
    "collapsed": true
   },
   "outputs": [],
   "source": []
  }
 ],
 "metadata": {
  "kernelspec": {
   "display_name": "Python 3",
   "language": "python",
   "name": "python3"
  },
  "language_info": {
   "codemirror_mode": {
    "name": "ipython",
    "version": 3
   },
   "file_extension": ".py",
   "mimetype": "text/x-python",
   "name": "python",
   "nbconvert_exporter": "python",
   "pygments_lexer": "ipython3",
   "version": "3.4.3"
  }
 },
 "nbformat": 4,
 "nbformat_minor": 0
}
